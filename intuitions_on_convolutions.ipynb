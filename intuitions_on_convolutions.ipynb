{
 "cells": [
  {
   "cell_type": "markdown",
   "metadata": {},
   "source": [
    "# Intuitions on Convolutions"
   ]
  },
  {
   "cell_type": "markdown",
   "metadata": {},
   "source": [
    "Let's build some intuitions about these **`convolution operations`**.\n",
    "\n",
    "🎯 <b><u>Goals</u>:</b>\n",
    "- **Understand convolution operations**\n",
    "- **Visualize**\n",
    "    - convolution kernels\n",
    "    - the effects of a convolution kernel applied on images\n",
    "\n",
    "<hr>\n",
    "\n",
    "🖼 <b><u>Convolutional Neural Networks are Neural Networks specifically designed to work on images</u></b>. \n",
    "\n",
    "- 🧮 This is made possible thanks to **`convolution operations`**.\n",
    "\n",
    "- 🔎 These specific mathematical operations apply a **`filter`** (i.e. a set of **`kernels`**, one per channel) to an input image and create an **`output representation`**. For Convolutional Neural Networks, this can also be called:\n",
    "    * a **`\"convoluted representation/feature\"`**,\n",
    "    * or a **`\"convolution\"`**,\n",
    "    * or also an **`\"activation\"`** (as it corresponds to the activation of a given layer).\n",
    "\n",
    "<img src=\"convolution.png\" width=\"300\">\n",
    "\n",
    "---\n",
    "\n",
    "❗️ <b><u>Remarks</u></b> ❗️\n",
    "\n",
    "* It is important to understand that **the same kernel (i.e. the same weights) is applied to different areas of the images**. \n",
    "\n",
    "* This is completely different from Dense Neural Networks that we've been working with during the first two units of the Deep Learning module:\n",
    "    * In `Dense/\"Fully Connected\" Neural Networks`, each weight of a given neuron is related to only one input coordinate (which, in images, would correspond to one pixel).\n",
    "    * In `Convolution Neural Networks`, the weights of a kernel are not applied to only one feature input, i.e. one pixel, but to different pixels, \"step by step\"!\n",
    "\n",
    "👉 You can think of each kernel (or each filter in the case of colored images) as a **`magnifying glass`** through which you see the image. Similarly to your eyes, kernels cannot capture everything in a picture at once, but they ***scan different parts of a picture to understand the whole picture that is being analyzed***.\n",
    "\n",
    "🎬 So let's have a closer look at `convolution operations`, and their impact in `Convolutional Neural Networks`."
   ]
  },
  {
   "cell_type": "markdown",
   "metadata": {},
   "source": [
    "## (0) The dataset"
   ]
  },
  {
   "cell_type": "markdown",
   "metadata": {},
   "source": [
    "First, let's use the following function `load_data` to... load the data.\n",
    "\n",
    "* Do not change anything in the function!\n",
    "* Restrict from any desire to change the shapes or types of the outputs! This will have an impact on further questions."
   ]
  },
  {
   "cell_type": "code",
   "execution_count": 1,
   "metadata": {},
   "outputs": [],
   "source": [
    "import os\n",
    "import numpy as np\n",
    "import pandas as pd\n",
    "\n",
    "from matplotlib.pyplot import imread\n",
    "\n",
    "import matplotlib.pyplot as plt\n",
    "%matplotlib inline\n",
    "\n",
    "def load_data(path):\n",
    "    nb_circles = 100\n",
    "    nb_triangles = 100\n",
    "    \n",
    "    X, y = [], []\n",
    "    \n",
    "    for i in range(nb_circles):\n",
    "        c_path = os.path.join(path, 'circles', f'circle_{i}.png')\n",
    "        X.append(imread(c_path)[:, :, :1])\n",
    "        y.append(0)\n",
    "    \n",
    "    for i in range(nb_triangles):\n",
    "        t_path = os.path.join(path, 'triangles', f'triangle_{i}.png')\n",
    "        X.append(imread(t_path)[:, :, :1])\n",
    "        y.append(1)\n",
    "        \n",
    "    c = list(zip(X, y))\n",
    "    np.random.shuffle(c)\n",
    "    X, y = zip(*c)\n",
    "        \n",
    "    return np.array(X), np.array(y)\n",
    "        \n",
    "X, y = load_data(\"data\")\n",
    "# Replace data by \"https://wagon-public-datasets.s3.amazonaws.com/deep-learning-circles-triangles/\" \n",
    "# if you are on a server"
   ]
  },
  {
   "cell_type": "markdown",
   "metadata": {},
   "source": [
    "❓ **Question about the shape** ❓\n",
    "\n",
    "* How many images do we have?\n",
    "* What are their dimensions? \n",
    "* Can you comment on the number of channels? "
   ]
  },
  {
   "cell_type": "code",
   "execution_count": 2,
   "metadata": {
    "tags": [
     "challengify"
    ]
   },
   "outputs": [
    {
     "data": {
      "text/plain": [
       "(200, 76, 78, 1)"
      ]
     },
     "execution_count": 2,
     "metadata": {},
     "output_type": "execute_result"
    }
   ],
   "source": [
    "X.shape"
   ]
  },
  {
   "cell_type": "markdown",
   "metadata": {},
   "source": [
    "<details>\n",
    "    <summary><i>About the number of channels:</i></summary>\n",
    "   \n",
    "Actually, we have already talked about this during the `MNIST challenge`.        \n",
    "        \n",
    "*  We need only one channel to compute the \"*blackness intensity*\" of a pixel with 0 corresponding to a black pixel and 1 corresponding to a white pixel. The last dimension corresponds to some kind of  \"Black to white channel\". \n",
    "        \n",
    "🎨 For colored images, the last dimension would be equal to 3 for `Red, Green, Blue (RGB)`\n",
    "\n",
    "👉 Have fun playing with the intensities of Red, Green and Blue <a href=\"https://www.w3schools.com/colors/colors_rgb.asp\">`here`</a>\n",
    "        \n",
    "        \n",
    "</details>        "
   ]
  },
  {
   "cell_type": "markdown",
   "metadata": {},
   "source": [
    "❓ **Question about the normalization** ❓\n",
    "\n",
    "Do these images need some normalization? "
   ]
  },
  {
   "cell_type": "markdown",
   "metadata": {},
   "source": [
    "👀 Let's have a look at some images with `plt.imshow` and show their respective labels."
   ]
  },
  {
   "cell_type": "code",
   "execution_count": 3,
   "metadata": {},
   "outputs": [
    {
     "data": {
      "image/png": "[encoded data removed]",
      "text/plain": [
       "<Figure size 640x480 with 1 Axes>"
      ]
     },
     "metadata": {},
     "output_type": "display_data"
    },
    {
     "data": {
      "image/png": "[encoded data removed]",
      "text/plain": [
       "<Figure size 640x480 with 1 Axes>"
      ]
     },
     "metadata": {},
     "output_type": "display_data"
    },
    {
     "data": {
      "image/png": "[encoded data removed]",
      "text/plain": [
       "<Figure size 640x480 with 1 Axes>"
      ]
     },
     "metadata": {},
     "output_type": "display_data"
    },
    {
     "data": {
      "image/png": "[encoded data removed]",
      "text/plain": [
       "<Figure size 640x480 with 1 Axes>"
      ]
     },
     "metadata": {},
     "output_type": "display_data"
    },
    {
     "data": {
      "image/png": "[encoded data removed]",
      "text/plain": [
       "<Figure size 640x480 with 1 Axes>"
      ]
     },
     "metadata": {},
     "output_type": "display_data"
    },
    {
     "data": {
      "image/png": "[encoded data removed]",
      "text/plain": [
       "<Figure size 640x480 with 1 Axes>"
      ]
     },
     "metadata": {},
     "output_type": "display_data"
    },
    {
     "data": {
      "image/png": "[encoded data removed]",
      "text/plain": [
       "<Figure size 640x480 with 1 Axes>"
      ]
     },
     "metadata": {},
     "output_type": "display_data"
    }
   ],
   "source": [
    "for iter_, (image, label) in enumerate(zip(X, y)):\n",
    "    plt.imshow(image[:, :, 0], cmap='gray')\n",
    "    plt.title('Triangle' if label == 1 else 'Circle')\n",
    "    plt.show()\n",
    "    \n",
    "    if iter_ > 5:\n",
    "        break"
   ]
  },
  {
   "cell_type": "markdown",
   "metadata": {},
   "source": [
    "❓ **Question: How many classes are we going to predict** ❓\n",
    "\n",
    "_This information will help you design the last layer of your Convolutional Network_"
   ]
  },
  {
   "cell_type": "markdown",
   "metadata": {
    "tags": [
     "challengify"
    ]
   },
   "source": [
    "2 classes predicted -> Triangle or Circle"
   ]
  },
  {
   "cell_type": "markdown",
   "metadata": {},
   "source": [
    "## (1) Kernels & Convolutions"
   ]
  },
  {
   "cell_type": "markdown",
   "metadata": {},
   "source": [
    "🎁 The following function **`compute_convolution`** performs a **convolution operation** $ \\Leftrightarrow $ i.e. *it applies a kernel to an image*."
   ]
  },
  {
   "cell_type": "markdown",
   "metadata": {},
   "source": [
    "❓ **Question about the `compute_convolution` function** ❓\n",
    "\n",
    "Run it and try to understand the different steps of this function."
   ]
  },
  {
   "cell_type": "code",
   "execution_count": 4,
   "metadata": {},
   "outputs": [],
   "source": [
    "def compute_convolution(input_image, kernel):\n",
    "    # Parameters\n",
    "    kernel = np.array(kernel)\n",
    "    kernel_height, kernel_width = kernel.shape\n",
    "\n",
    "    img = np.squeeze(input_image) # Removes dimensions of size 1\n",
    "    img_height, img_width = img.shape\n",
    "    \n",
    "    output_image = []\n",
    "\n",
    "    for x in range(img_height - kernel_height + 1):\n",
    "        arr = []\n",
    "        \n",
    "        for y in range(img_width - kernel_width + 1):\n",
    "            \n",
    "            a = np.multiply(img[x: x + kernel_height, y: y + kernel_width],\n",
    "                            kernel)\n",
    "            arr.append(a.sum())\n",
    "            \n",
    "        output_image.append(arr)\n",
    "        \n",
    "    return output_image"
   ]
  },
  {
   "cell_type": "markdown",
   "metadata": {},
   "source": [
    "❓ **How does the `compute_convolution` function work in practice** ❓ \n",
    "\n",
    "1. Choose any image from the input dataset\n",
    "2. Apply the `identity_kernel` to it\n",
    "3. Display both the input image and the output image. \n",
    "4. Do you see any differences?"
   ]
  },
  {
   "cell_type": "code",
   "execution_count": 5,
   "metadata": {},
   "outputs": [],
   "source": [
    "identity_kernel = [\n",
    "    [0, 0, 0],\n",
    "    [0, 1, 0],\n",
    "    [0, 0, 0]\n",
    "]"
   ]
  },
  {
   "cell_type": "code",
   "execution_count": 6,
   "metadata": {
    "tags": [
     "challengify"
    ]
   },
   "outputs": [
    {
     "data": {
      "image/png": "[encoded data removed]",
      "text/plain": [
       "<Figure size 640x480 with 1 Axes>"
      ]
     },
     "metadata": {},
     "output_type": "display_data"
    },
    {
     "data": {
      "text/plain": [
       "<matplotlib.image.AxesImage at 0x7f5309ace4d0>"
      ]
     },
     "execution_count": 6,
     "metadata": {},
     "output_type": "execute_result"
    },
    {
     "data": {
      "image/png": "[encoded data removed]",
      "text/plain": [
       "<Figure size 640x480 with 1 Axes>"
      ]
     },
     "metadata": {},
     "output_type": "display_data"
    }
   ],
   "source": [
    "plt.imshow(X[0], cmap=\"gray\");\n",
    "plt.show()\n",
    "plt.imshow(compute_convolution(X[0], identity_kernel), cmap=\"gray\")"
   ]
  },
  {
   "cell_type": "markdown",
   "metadata": {},
   "source": [
    "<details>\n",
    "    <summary><i>Answer</i></summary>\n",
    "        \n",
    "🧑🏻‍🏫 The previous kernel corresponds to the **`identity_kernel`**, meaning that ***the output is equal to the input***... \n",
    "    \n",
    "🕵🏻‍♂️ It basically did nothing to the input image. It you think about it thoroughly, that's not surprising. With this kernel, only the pixel scanned in the middle was kept and multiplied by one, the surrounding pixels were multiplied by zero.        \n",
    "        \n",
    "</details>        "
   ]
  },
  {
   "cell_type": "markdown",
   "metadata": {},
   "source": [
    "🎁 We coded a function **`plot_convolution`** that plots the output image after applying a kernel to an input image."
   ]
  },
  {
   "cell_type": "code",
   "execution_count": 7,
   "metadata": {},
   "outputs": [],
   "source": [
    "def plot_convolution(img, kernel, activation=False):\n",
    "    ''' The following printing function ease the visualization'''\n",
    "    \n",
    "    img = np.squeeze(img)\n",
    "    output_img = compute_convolution(img, kernel)\n",
    "    if activation:\n",
    "        output_img = np.maximum(output_img, 0)\n",
    "    \n",
    "    plt.figure(figsize=(10, 5))\n",
    "    \n",
    "    ax1 = plt.subplot2grid((3,3),(0,0), rowspan=3)\n",
    "    ax1.imshow(img, cmap='gray')\n",
    "    ax1.title.set_text('Input image')\n",
    "    \n",
    "    ax2 = plt.subplot2grid((3,3),(1, 1))\n",
    "    ax2.imshow(kernel, cmap='gray')\n",
    "    ax2.title.set_text('Kernel')    \n",
    "    \n",
    "    ax3 = plt.subplot2grid((3,3),(0, 2), rowspan=3)\n",
    "    ax3.imshow(output_img, cmap='gray')\n",
    "    ax3.title.set_text('Output image')    \n",
    "\n",
    "    for ax in [ax1, ax2, ax3]:\n",
    "        ax.axes.get_xaxis().set_visible(False)\n",
    "        ax.axes.get_yaxis().set_visible(False)\n",
    "        \n",
    "    plt.show()"
   ]
  },
  {
   "cell_type": "markdown",
   "metadata": {},
   "source": [
    "❓ **Question** ❓ Apply `plot_convolution` with the following `kernel_1` once on an triangle and once on a circle.\n"
   ]
  },
  {
   "cell_type": "code",
   "execution_count": 8,
   "metadata": {},
   "outputs": [],
   "source": [
    "kernel_1 = [\n",
    "    [1, 1, 1],\n",
    "    [0, 0, 0],\n",
    "    [-1, -1, -1]\n",
    "]"
   ]
  },
  {
   "cell_type": "code",
   "execution_count": 9,
   "metadata": {
    "tags": [
     "challengify"
    ]
   },
   "outputs": [
    {
     "data": {
      "image/png": "[encoded data removed]",
      "text/plain": [
       "<Figure size 1000x500 with 3 Axes>"
      ]
     },
     "metadata": {},
     "output_type": "display_data"
    }
   ],
   "source": [
    "plot_convolution(kernel=kernel_1, img=X[30])"
   ]
  },
  {
   "cell_type": "markdown",
   "metadata": {},
   "source": [
    "👆 Let's analyze what just happened:\n",
    "\n",
    "* White pixels correspond to high values and black pixels to low values.\n",
    "* In a Neural Network, remember that we use activation functions to remove linearities. \n",
    "    * *For example*, when the activation function is `relu`, you already know that it simply corresponds to setting the negative values to 0.\n",
    "\n",
    "---\n",
    "\n",
    "❓ **What is the impact of the activation function in a Convolutional Layer ?** ❓\n",
    "\n",
    "Re-run the previous function `plot_convolution` with `activation` set to `True` (in this case, the activation function _is_ the relu)."
   ]
  },
  {
   "cell_type": "code",
   "execution_count": 10,
   "metadata": {
    "tags": [
     "challengify"
    ]
   },
   "outputs": [
    {
     "data": {
      "image/png": "[encoded data removed]",
      "text/plain": [
       "<Figure size 1000x500 with 3 Axes>"
      ]
     },
     "metadata": {},
     "output_type": "display_data"
    }
   ],
   "source": [
    "plot_convolution(kernel=kernel_1, img=X[0], activation=True)"
   ]
  },
  {
   "cell_type": "markdown",
   "metadata": {},
   "source": [
    "👆 This kernel is actually highlighting the edges in a given direction. "
   ]
  },
  {
   "cell_type": "markdown",
   "metadata": {},
   "source": [
    "❓ **Play with different kernels...** ❓\n",
    "\n",
    "Try the following kernels to check the different edges they can detect."
   ]
  },
  {
   "cell_type": "code",
   "execution_count": 11,
   "metadata": {},
   "outputs": [],
   "source": [
    "kernel_2 = [\n",
    "    [-1, -1, -1],\n",
    "    [0, 0, 0],   \n",
    "    [1, 1, 1],\n",
    "]\n",
    "\n",
    "kernel_3 = [\n",
    "    [-1, 0, 1],\n",
    "    [-1, 0, 1],\n",
    "    [-1, 0, 1]\n",
    "]\n",
    "\n",
    "kernel_4 = [\n",
    "    [1, 0, -1],\n",
    "    [1, 0, -1],\n",
    "    [1, 0, -1]\n",
    "]"
   ]
  },
  {
   "cell_type": "code",
   "execution_count": 12,
   "metadata": {
    "tags": [
     "challengify"
    ]
   },
   "outputs": [
    {
     "data": {
      "image/png": "[encoded data removed]",
      "text/plain": [
       "<Figure size 1000x500 with 3 Axes>"
      ]
     },
     "metadata": {},
     "output_type": "display_data"
    }
   ],
   "source": [
    "plot_convolution(kernel=kernel_2, img=X[0], activation=True)"
   ]
  },
  {
   "cell_type": "markdown",
   "metadata": {},
   "source": [
    "❓ **What is the effect of the kernel size** ❓\n",
    "\n",
    "Try the _kernel_big_."
   ]
  },
  {
   "cell_type": "code",
   "execution_count": 13,
   "metadata": {},
   "outputs": [
    {
     "data": {
      "text/plain": [
       "array([[ 1.,  1.,  1.,  1.,  1.,  1.,  1.,  1.,  1.,  1.],\n",
       "       [ 1.,  1.,  1.,  1.,  1.,  1.,  1.,  1.,  1.,  1.],\n",
       "       [ 1.,  1.,  1.,  1.,  1.,  1.,  1.,  1.,  1.,  1.],\n",
       "       [ 0.,  0.,  0.,  0.,  0.,  0.,  0.,  0.,  0.,  0.],\n",
       "       [ 0.,  0.,  0.,  0.,  0.,  0.,  0.,  0.,  0.,  0.],\n",
       "       [ 0.,  0.,  0.,  0.,  0.,  0.,  0.,  0.,  0.,  0.],\n",
       "       [ 0.,  0.,  0.,  0.,  0.,  0.,  0.,  0.,  0.,  0.],\n",
       "       [-1., -1., -1., -1., -1., -1., -1., -1., -1., -1.],\n",
       "       [-1., -1., -1., -1., -1., -1., -1., -1., -1., -1.],\n",
       "       [-1., -1., -1., -1., -1., -1., -1., -1., -1., -1.]])"
      ]
     },
     "execution_count": 13,
     "metadata": {},
     "output_type": "execute_result"
    }
   ],
   "source": [
    "kernel_big = np.array([\n",
    "    np.ones((10,)),\n",
    "    np.ones((10,)),\n",
    "    np.ones((10,)),\n",
    "    np.zeros((10,)),\n",
    "    np.zeros((10,)),\n",
    "    np.zeros((10,)),\n",
    "    np.zeros((10,)),\n",
    "    np.ones((10,))*-1,\n",
    "    np.ones((10,))*-1,\n",
    "    np.ones((10,))*-1,\n",
    "])\n",
    "\n",
    "kernel_big"
   ]
  },
  {
   "cell_type": "code",
   "execution_count": 14,
   "metadata": {},
   "outputs": [
    {
     "data": {
      "image/png": "[encoded data removed]",
      "text/plain": [
       "<Figure size 1000x500 with 3 Axes>"
      ]
     },
     "metadata": {},
     "output_type": "display_data"
    }
   ],
   "source": [
    "plot_convolution(kernel=kernel_big, img=X[0], activation=True)"
   ]
  },
  {
   "cell_type": "markdown",
   "metadata": {},
   "source": [
    "❓ **Try another kernel**  ❓"
   ]
  },
  {
   "cell_type": "code",
   "execution_count": 15,
   "metadata": {},
   "outputs": [
    {
     "data": {
      "image/png": "[encoded data removed]",
      "text/plain": [
       "<Figure size 1000x500 with 3 Axes>"
      ]
     },
     "metadata": {},
     "output_type": "display_data"
    }
   ],
   "source": [
    "random_kernel = np.random.uniform(-10, 10, (5, 5))\n",
    "plot_convolution(kernel=random_kernel, img=X[0], activation=True)"
   ]
  },
  {
   "cell_type": "markdown",
   "metadata": {},
   "source": [
    "Now that you've got the idea of what a convolution operation does to an image, let's see how it goes with a \"real\" Convolutional Neural Network. ✅"
   ]
  },
  {
   "cell_type": "markdown",
   "metadata": {},
   "source": [
    "## (2) Training a CNN to detect triangles and circles"
   ]
  },
  {
   "cell_type": "markdown",
   "metadata": {},
   "source": [
    "### (2.1) Architecture"
   ]
  },
  {
   "cell_type": "markdown",
   "metadata": {},
   "source": [
    "\n",
    "❓ **Question: Designing a CNN** ❓\n",
    "\n",
    "Write a Convolutional Network that has \n",
    "- a Convolutional Layer with 16 filters with $ (4, 4) $ kernels.\n",
    "- a Convolutional Layer with 32 filters with $ (3, 3) $ kernels.\n",
    "- a Convolutional Layer with 64 filters with $ (3, 3) $ kernels.\n",
    "- a Convolutional Layer with 64 filters with $ (2, 2) $ kernels.\n",
    "\n",
    "with:\n",
    "- A Max-Pooling Layer (with a $ (2, 2) $ pool-size) after each convolution.\n",
    "- A Hidden Dense Layer with the size of your choice, be reasonable:\n",
    "    - after the flattening part \n",
    "    - but before the last layer\n",
    "\n",
    "\n",
    "Also, make sure to compile your model with the appropriate parameters"
   ]
  },
  {
   "cell_type": "code",
   "execution_count": 16,
   "metadata": {},
   "outputs": [
    {
     "name": "stderr",
     "output_type": "stream",
     "text": [
      "2023-02-22 15:08:54.728829: I tensorflow/core/platform/cpu_feature_guard.cc:193] This TensorFlow binary is optimized with oneAPI Deep Neural Network Library (oneDNN) to use the following CPU instructions in performance-critical operations:  AVX2 FMA\n",
      "To enable them in other operations, rebuild TensorFlow with the appropriate compiler flags.\n",
      "2023-02-22 15:08:55.562745: W tensorflow/stream_executor/platform/default/dso_loader.cc:64] Could not load dynamic library 'libcudart.so.11.0'; dlerror: libcudart.so.11.0: cannot open shared object file: No such file or directory\n",
      "2023-02-22 15:08:55.562766: I tensorflow/stream_executor/cuda/cudart_stub.cc:29] Ignore above cudart dlerror if you do not have a GPU set up on your machine.\n",
      "2023-02-22 15:08:55.675371: E tensorflow/stream_executor/cuda/cuda_blas.cc:2981] Unable to register cuBLAS factory: Attempting to register factory for plugin cuBLAS when one has already been registered\n",
      "2023-02-22 15:08:57.830982: W tensorflow/stream_executor/platform/default/dso_loader.cc:64] Could not load dynamic library 'libnvinfer.so.7'; dlerror: libnvinfer.so.7: cannot open shared object file: No such file or directory\n",
      "2023-02-22 15:08:57.831151: W tensorflow/stream_executor/platform/default/dso_loader.cc:64] Could not load dynamic library 'libnvinfer_plugin.so.7'; dlerror: libnvinfer_plugin.so.7: cannot open shared object file: No such file or directory\n",
      "2023-02-22 15:08:57.831162: W tensorflow/compiler/tf2tensorrt/utils/py_utils.cc:38] TF-TRT Warning: Cannot dlopen some TensorRT libraries. If you would like to use Nvidia GPU with TensorRT, please make sure the missing libraries mentioned above are installed properly.\n"
     ]
    }
   ],
   "source": [
    "from tensorflow.keras import layers, models\n",
    "\n",
    "def initialize_model():\n",
    "    \n",
    "    model = models.Sequential()\n",
    "\n",
    "    model.add(layers.Conv2D(16, kernel_size=(4, 4), activation='relu', input_shape=(76, 78, 1)))\n",
    "    model.add(layers.MaxPool2D(pool_size=(2,2))) \n",
    "    \n",
    "    model.add(layers.Conv2D(32, kernel_size=(3, 3), activation='relu'))\n",
    "    model.add(layers.MaxPool2D(pool_size=(2,2))) \n",
    "    \n",
    "    model.add(layers.Conv2D(64, kernel_size=(3, 3), activation='relu'))\n",
    "    model.add(layers.MaxPool2D(pool_size=(2,2)))\n",
    "    \n",
    "    model.add(layers.Conv2D(64, kernel_size=(2, 2), activation='relu'))\n",
    "    model.add(layers.MaxPool2D(pool_size=(2,2)))\n",
    "    \n",
    "    model.add(layers.Flatten())\n",
    "    model.add(layers.Dense(10, activation='relu'))\n",
    "    model.add(layers.Dense(1, activation='sigmoid'))\n",
    "    \n",
    "    model.compile(loss='BinaryCrossentropy',\n",
    "              optimizer='adam',\n",
    "              metrics=['accuracy'])\n",
    "    \n",
    "    \n",
    "    return model"
   ]
  },
  {
   "cell_type": "markdown",
   "metadata": {},
   "source": [
    "### (2.2) Training"
   ]
  },
  {
   "cell_type": "markdown",
   "metadata": {},
   "source": [
    "❓ **Question: Training the CNN** ❓\n",
    "\n",
    "* Fit the model. You should achieve a accuracy of *at least* 90%. \n",
    "\n",
    "    * When you reach such a high score, it may sound suspicious and you would probably ask yourself whether the model is overfitting or not... but let's ignore it for this challenge 😏"
   ]
  },
  {
   "cell_type": "code",
   "execution_count": 17,
   "metadata": {
    "tags": [
     "challengify"
    ]
   },
   "outputs": [
    {
     "name": "stderr",
     "output_type": "stream",
     "text": [
      "2023-02-22 15:09:00.554988: W tensorflow/stream_executor/platform/default/dso_loader.cc:64] Could not load dynamic library 'libcuda.so.1'; dlerror: libcuda.so.1: cannot open shared object file: No such file or directory\n",
      "2023-02-22 15:09:00.555845: W tensorflow/stream_executor/cuda/cuda_driver.cc:263] failed call to cuInit: UNKNOWN ERROR (303)\n",
      "2023-02-22 15:09:00.555878: I tensorflow/stream_executor/cuda/cuda_diagnostics.cc:156] kernel driver does not appear to be running on this host (FR-VE-200901-01): /proc/driver/nvidia/version does not exist\n",
      "2023-02-22 15:09:00.557824: I tensorflow/core/platform/cpu_feature_guard.cc:193] This TensorFlow binary is optimized with oneAPI Deep Neural Network Library (oneDNN) to use the following CPU instructions in performance-critical operations:  AVX2 FMA\n",
      "To enable them in other operations, rebuild TensorFlow with the appropriate compiler flags.\n"
     ]
    }
   ],
   "source": [
    "model = initialize_model()"
   ]
  },
  {
   "cell_type": "code",
   "execution_count": 18,
   "metadata": {},
   "outputs": [],
   "source": [
    "from tensorflow.keras.callbacks import EarlyStopping"
   ]
  },
  {
   "cell_type": "code",
   "execution_count": 19,
   "metadata": {},
   "outputs": [
    {
     "name": "stdout",
     "output_type": "stream",
     "text": [
      "Model: \"sequential\"\n",
      "_________________________________________________________________\n",
      " Layer (type)                Output Shape              Param #   \n",
      "=================================================================\n",
      " conv2d (Conv2D)             (None, 73, 75, 16)        272       \n",
      "                                                                 \n",
      " max_pooling2d (MaxPooling2D  (None, 36, 37, 16)       0         \n",
      " )                                                               \n",
      "                                                                 \n",
      " conv2d_1 (Conv2D)           (None, 34, 35, 32)        4640      \n",
      "                                                                 \n",
      " max_pooling2d_1 (MaxPooling  (None, 17, 17, 32)       0         \n",
      " 2D)                                                             \n",
      "                                                                 \n",
      " conv2d_2 (Conv2D)           (None, 15, 15, 64)        18496     \n",
      "                                                                 \n",
      " max_pooling2d_2 (MaxPooling  (None, 7, 7, 64)         0         \n",
      " 2D)                                                             \n",
      "                                                                 \n",
      " conv2d_3 (Conv2D)           (None, 6, 6, 64)          16448     \n",
      "                                                                 \n",
      " max_pooling2d_3 (MaxPooling  (None, 3, 3, 64)         0         \n",
      " 2D)                                                             \n",
      "                                                                 \n",
      " flatten (Flatten)           (None, 576)               0         \n",
      "                                                                 \n",
      " dense (Dense)               (None, 10)                5770      \n",
      "                                                                 \n",
      " dense_1 (Dense)             (None, 1)                 11        \n",
      "                                                                 \n",
      "=================================================================\n",
      "Total params: 45,637\n",
      "Trainable params: 45,637\n",
      "Non-trainable params: 0\n",
      "_________________________________________________________________\n"
     ]
    }
   ],
   "source": [
    "model.summary()"
   ]
  },
  {
   "cell_type": "code",
   "execution_count": 20,
   "metadata": {},
   "outputs": [
    {
     "name": "stdout",
     "output_type": "stream",
     "text": [
      "Epoch 1/10\n",
      "6/9 [===================>..........] - ETA: 0s - loss: 0.6914 - accuracy: 0.5000"
     ]
    },
    {
     "name": "stderr",
     "output_type": "stream",
     "text": [
      "2023-02-22 15:09:01.860574: W tensorflow/core/framework/cpu_allocator_impl.cc:82] Allocation of 20995200 exceeds 10% of free system memory.\n",
      "2023-02-22 15:09:01.861023: W tensorflow/core/framework/cpu_allocator_impl.cc:82] Allocation of 20995200 exceeds 10% of free system memory.\n",
      "2023-02-22 15:09:01.866446: W tensorflow/core/framework/cpu_allocator_impl.cc:82] Allocation of 25361280 exceeds 10% of free system memory.\n",
      "2023-02-22 15:09:01.866513: W tensorflow/core/framework/cpu_allocator_impl.cc:82] Allocation of 25361280 exceeds 10% of free system memory.\n",
      "2023-02-22 15:09:01.909105: W tensorflow/core/framework/cpu_allocator_impl.cc:82] Allocation of 20995200 exceeds 10% of free system memory.\n"
     ]
    },
    {
     "name": "stdout",
     "output_type": "stream",
     "text": [
      "9/9 [==============================] - 1s 62ms/step - loss: 0.6899 - accuracy: 0.5071 - val_loss: 0.6990 - val_accuracy: 0.4167\n",
      "Epoch 2/10\n",
      "9/9 [==============================] - 0s 28ms/step - loss: 0.6700 - accuracy: 0.5357 - val_loss: 0.6796 - val_accuracy: 0.4167\n",
      "Epoch 3/10\n",
      "9/9 [==============================] - 0s 27ms/step - loss: 0.6206 - accuracy: 0.6214 - val_loss: 0.6209 - val_accuracy: 0.5167\n",
      "Epoch 4/10\n",
      "9/9 [==============================] - 0s 26ms/step - loss: 0.5091 - accuracy: 0.7643 - val_loss: 0.4524 - val_accuracy: 0.9333\n",
      "Epoch 5/10\n",
      "9/9 [==============================] - 0s 26ms/step - loss: 0.3108 - accuracy: 0.9214 - val_loss: 0.3801 - val_accuracy: 0.8333\n",
      "Epoch 6/10\n",
      "9/9 [==============================] - 0s 27ms/step - loss: 0.1422 - accuracy: 0.9571 - val_loss: 0.1807 - val_accuracy: 0.9667\n",
      "Epoch 7/10\n",
      "9/9 [==============================] - 10s 1s/step - loss: 0.0738 - accuracy: 0.9643 - val_loss: 0.1423 - val_accuracy: 0.9667\n",
      "Epoch 8/10\n",
      "9/9 [==============================] - 2s 238ms/step - loss: 0.0346 - accuracy: 1.0000 - val_loss: 0.1425 - val_accuracy: 0.9500\n",
      "Epoch 9/10\n",
      "9/9 [==============================] - 4s 430ms/step - loss: 0.0167 - accuracy: 1.0000 - val_loss: 0.1498 - val_accuracy: 0.9333\n",
      "Epoch 10/10\n",
      "9/9 [==============================] - 6s 716ms/step - loss: 0.0093 - accuracy: 1.0000 - val_loss: 0.1953 - val_accuracy: 0.9500\n"
     ]
    },
    {
     "data": {
      "text/plain": [
       "<keras.callbacks.History at 0x7f52b031d4b0>"
      ]
     },
     "execution_count": 20,
     "metadata": {},
     "output_type": "execute_result"
    }
   ],
   "source": [
    "es = EarlyStopping(patience=20, restore_best_weights=True)\n",
    "\n",
    "model.fit(X, y, \n",
    "          batch_size=16, \n",
    "          epochs=10, \n",
    "          validation_split=0.3,\n",
    "          callbacks=[es],\n",
    "         verbose = 1)"
   ]
  },
  {
   "cell_type": "markdown",
   "metadata": {},
   "source": [
    "🎁 We coded the `plot_loss_accuracy` for you.\n",
    "\n",
    "❓ **Question: does the CNN converge** ❓\n",
    "\n",
    "_Also, do you see any sign of overfitting?_"
   ]
  },
  {
   "cell_type": "code",
   "execution_count": 21,
   "metadata": {},
   "outputs": [],
   "source": [
    "def plot_loss_accuracy(history, title=None):\n",
    "    fig, ax = plt.subplots(1,2, figsize=(20,7))\n",
    "    \n",
    "    # --- LOSS --- \n",
    "    \n",
    "    ax[0].plot(history.history['loss'])\n",
    "    ax[0].plot(history.history['val_loss'])\n",
    "    ax[0].set_title('Model loss')\n",
    "    ax[0].set_ylabel('Loss')\n",
    "    ax[0].set_xlabel('Epoch')\n",
    "    ax[0].set_ylim((0,3))\n",
    "    ax[0].legend(['Train', 'Test'], loc='best')\n",
    "    ax[0].grid(axis=\"x\",linewidth=0.5)\n",
    "    ax[0].grid(axis=\"y\",linewidth=0.5)\n",
    "    \n",
    "    # --- ACCURACY\n",
    "    \n",
    "    ax[1].plot(history.history['accuracy'])\n",
    "    ax[1].plot(history.history['val_accuracy'])\n",
    "    ax[1].set_title('Model Accuracy')\n",
    "    ax[1].set_ylabel('Accuracy')\n",
    "    ax[1].set_xlabel('Epoch')\n",
    "    ax[1].legend(['Train', 'Test'], loc='best')\n",
    "    ax[1].set_ylim((0,1))\n",
    "    ax[1].grid(axis=\"x\",linewidth=0.5)\n",
    "    ax[1].grid(axis=\"y\",linewidth=0.5)\n",
    "    \n",
    "    if title:\n",
    "        fig.suptitle(title)"
   ]
  },
  {
   "cell_type": "code",
   "execution_count": 22,
   "metadata": {
    "tags": [
     "challengify"
    ]
   },
   "outputs": [
    {
     "data": {
      "image/png": "[encoded data removed]",
      "text/plain": [
       "<Figure size 2000x700 with 2 Axes>"
      ]
     },
     "metadata": {},
     "output_type": "display_data"
    }
   ],
   "source": [
    "plot_loss_accuracy(model.history)"
   ]
  },
  {
   "cell_type": "markdown",
   "metadata": {},
   "source": [
    "👏 Congratulations! After running a CNN to classify handwritten digits, you were able to design another to classify images either as triangles or circles!\n",
    "\n",
    "😏 However, you have probably guessed that Computer Vision is obviously more complex than that...\n",
    "\n",
    "📆 In `Challenge 3 - CIFAR10`, you will try to classify images between 10 categories.\n",
    "\n",
    "📚 The last section of this notebook will help you build a deeper understanding of CNN. **Read `(2.3) Deeper understanding of CNN` very carefully** before moving on the next challenge!"
   ]
  },
  {
   "cell_type": "markdown",
   "metadata": {},
   "source": [
    "### 🎁 📚 (2.3) Deeper understanding of CNNs"
   ]
  },
  {
   "cell_type": "markdown",
   "metadata": {},
   "source": [
    "👩🏻‍🏫 For any Sequential Neural Network (Dense or Convolutional), you can:\n",
    "- print the **`.summary()`** to display the layers and the number of weights/parameters involved\n",
    "- access the different **`.layers`** of your model"
   ]
  },
  {
   "cell_type": "code",
   "execution_count": 23,
   "metadata": {
    "scrolled": true
   },
   "outputs": [
    {
     "name": "stdout",
     "output_type": "stream",
     "text": [
      "Model: \"sequential\"\n",
      "_________________________________________________________________\n",
      " Layer (type)                Output Shape              Param #   \n",
      "=================================================================\n",
      " conv2d (Conv2D)             (None, 73, 75, 16)        272       \n",
      "                                                                 \n",
      " max_pooling2d (MaxPooling2D  (None, 36, 37, 16)       0         \n",
      " )                                                               \n",
      "                                                                 \n",
      " conv2d_1 (Conv2D)           (None, 34, 35, 32)        4640      \n",
      "                                                                 \n",
      " max_pooling2d_1 (MaxPooling  (None, 17, 17, 32)       0         \n",
      " 2D)                                                             \n",
      "                                                                 \n",
      " conv2d_2 (Conv2D)           (None, 15, 15, 64)        18496     \n",
      "                                                                 \n",
      " max_pooling2d_2 (MaxPooling  (None, 7, 7, 64)         0         \n",
      " 2D)                                                             \n",
      "                                                                 \n",
      " conv2d_3 (Conv2D)           (None, 6, 6, 64)          16448     \n",
      "                                                                 \n",
      " max_pooling2d_3 (MaxPooling  (None, 3, 3, 64)         0         \n",
      " 2D)                                                             \n",
      "                                                                 \n",
      " flatten (Flatten)           (None, 576)               0         \n",
      "                                                                 \n",
      " dense (Dense)               (None, 10)                5770      \n",
      "                                                                 \n",
      " dense_1 (Dense)             (None, 1)                 11        \n",
      "                                                                 \n",
      "=================================================================\n",
      "Total params: 45,637\n",
      "Trainable params: 45,637\n",
      "Non-trainable params: 0\n",
      "_________________________________________________________________\n"
     ]
    }
   ],
   "source": [
    "model.summary()"
   ]
  },
  {
   "cell_type": "code",
   "execution_count": 24,
   "metadata": {},
   "outputs": [
    {
     "data": {
      "text/plain": [
       "[<keras.layers.convolutional.conv2d.Conv2D at 0x7f53099bcee0>,\n",
       " <keras.layers.pooling.max_pooling2d.MaxPooling2D at 0x7f53099be2f0>,\n",
       " <keras.layers.convolutional.conv2d.Conv2D at 0x7f52c81ce650>,\n",
       " <keras.layers.pooling.max_pooling2d.MaxPooling2D at 0x7f52c8144a00>,\n",
       " <keras.layers.convolutional.conv2d.Conv2D at 0x7f52b0d644c0>,\n",
       " <keras.layers.pooling.max_pooling2d.MaxPooling2D at 0x7f53099bc3a0>,\n",
       " <keras.layers.convolutional.conv2d.Conv2D at 0x7f52b0d67460>,\n",
       " <keras.layers.pooling.max_pooling2d.MaxPooling2D at 0x7f52b0d66980>,\n",
       " <keras.layers.reshaping.flatten.Flatten at 0x7f52b0d66fe0>,\n",
       " <keras.layers.core.dense.Dense at 0x7f52b0d67fa0>,\n",
       " <keras.layers.core.dense.Dense at 0x7f52b0d66260>]"
      ]
     },
     "execution_count": 24,
     "metadata": {},
     "output_type": "execute_result"
    }
   ],
   "source": [
    "model.layers"
   ]
  },
  {
   "cell_type": "markdown",
   "metadata": {},
   "source": [
    "🕵️‍♀️ With the following table, you will have a better overview of the different weights, kernels and filters involved in the CNN you've built earlier:\n",
    "\n",
    "| layer_number | convolution_layer | kernel_number | channel_number |\n",
    "|--------------|-------------------|---------------|----------------|\n",
    "| 0            | conv2D no 1       | 16            | 1              |\n",
    "| 2            | conv2D no 2       | 32            | 16             |\n",
    "| 4            | conv2D no 3       | 64            | 32             |\n",
    "| 6            | conv2D no 4       | 64            | 64             |"
   ]
  },
  {
   "cell_type": "markdown",
   "metadata": {},
   "source": [
    "#### (2.3.1) Kernels"
   ]
  },
  {
   "cell_type": "markdown",
   "metadata": {},
   "source": [
    "🧑🏻‍🏫 It is possible to **retrieve the values of all the kernels for each layer after training a CNN**. \n",
    "\n",
    "👉 Let's focus first on the different parameters (**`.weights`**) of the first convolutional layer."
   ]
  },
  {
   "cell_type": "code",
   "execution_count": 25,
   "metadata": {},
   "outputs": [
    {
     "data": {
      "text/plain": [
       "<keras.layers.convolutional.conv2d.Conv2D at 0x7f53099bcee0>"
      ]
     },
     "execution_count": 25,
     "metadata": {},
     "output_type": "execute_result"
    }
   ],
   "source": [
    "# Accessing the first convolutional layer of the CNN\n",
    "first_convolutional_layer = model.layers[0]\n",
    "first_convolutional_layer"
   ]
  },
  {
   "cell_type": "code",
   "execution_count": 26,
   "metadata": {},
   "outputs": [
    {
     "data": {
      "text/plain": [
       "TensorShape([4, 4, 1, 16])"
      ]
     },
     "execution_count": 26,
     "metadata": {},
     "output_type": "execute_result"
    }
   ],
   "source": [
    "# Weights of the first convolutional layer of the CNN - which was trained/optimized\n",
    "first_convolutional_layer.weights[0].shape"
   ]
  },
  {
   "cell_type": "markdown",
   "metadata": {},
   "source": [
    "👆 `TensorShape[4, 4, 1, 16]` represents:\n",
    "- the weights of each kernel (size `4` $\\times$ `4`)\n",
    "- there was only `1` channel (single B&W input)\n",
    "- and we have decided to apply `16` different kernels in this layer!"
   ]
  },
  {
   "cell_type": "code",
   "execution_count": 27,
   "metadata": {},
   "outputs": [
    {
     "data": {
      "text/plain": [
       "TensorShape([16])"
      ]
     },
     "execution_count": 27,
     "metadata": {},
     "output_type": "execute_result"
    }
   ],
   "source": [
    "# Biases of the first convolutional layer of the CNN - which was trained/optimized\n",
    "first_convolutional_layer.weights[1].shape"
   ]
  },
  {
   "cell_type": "markdown",
   "metadata": {},
   "source": [
    "👆 Let's not forget the biases, one per new channel in the output image!"
   ]
  },
  {
   "cell_type": "code",
   "execution_count": 28,
   "metadata": {},
   "outputs": [
    {
     "data": {
      "text/plain": [
       "272"
      ]
     },
     "execution_count": 28,
     "metadata": {},
     "output_type": "execute_result"
    }
   ],
   "source": [
    "# Notice that we have indeed 256 weights + 16 biases = 272 parameters for the first convolutional layer\n",
    "4*4*1*16+16"
   ]
  },
  {
   "cell_type": "markdown",
   "metadata": {
    "tags": [
     "challengify"
    ]
   },
   "source": [
    "> YOUR ANSWER HERE"
   ]
  },
  {
   "cell_type": "code",
   "execution_count": 29,
   "metadata": {},
   "outputs": [
    {
     "data": {
      "text/plain": [
       "<keras.layers.convolutional.conv2d.Conv2D at 0x7f52c81ce650>"
      ]
     },
     "execution_count": 29,
     "metadata": {},
     "output_type": "execute_result"
    }
   ],
   "source": [
    "# Accessing the second convolutional layer of the CNN\n",
    "second_convolutional_layer = model.layers[2]\n",
    "second_convolutional_layer"
   ]
  },
  {
   "cell_type": "code",
   "execution_count": 30,
   "metadata": {},
   "outputs": [
    {
     "data": {
      "text/plain": [
       "TensorShape([3, 3, 16, 32])"
      ]
     },
     "execution_count": 30,
     "metadata": {},
     "output_type": "execute_result"
    }
   ],
   "source": [
    "# Weights of the second convolutional layer of the CNN - which was trained/optimized\n",
    "second_convolutional_layer.weights[0].shape"
   ]
  },
  {
   "cell_type": "code",
   "execution_count": 31,
   "metadata": {},
   "outputs": [
    {
     "data": {
      "text/plain": [
       "TensorShape([32])"
      ]
     },
     "execution_count": 31,
     "metadata": {},
     "output_type": "execute_result"
    }
   ],
   "source": [
    "# Biases of the second convolutional layer of the CNN - which was trained/optimized\n",
    "second_convolutional_layer.weights[1].shape"
   ]
  },
  {
   "cell_type": "code",
   "execution_count": 32,
   "metadata": {},
   "outputs": [
    {
     "data": {
      "text/plain": [
       "4640"
      ]
     },
     "execution_count": 32,
     "metadata": {},
     "output_type": "execute_result"
    }
   ],
   "source": [
    "# Notice that we have indeed 4608 weights + 32 biases = 4640 parameters for the third convolutional layer\n",
    "3*3*16*32+32"
   ]
  },
  {
   "cell_type": "code",
   "execution_count": 33,
   "metadata": {},
   "outputs": [
    {
     "data": {
      "text/plain": [
       "<keras.layers.convolutional.conv2d.Conv2D at 0x7f52b0d644c0>"
      ]
     },
     "execution_count": 33,
     "metadata": {},
     "output_type": "execute_result"
    }
   ],
   "source": [
    "# Accessing the third convolutional layer of the CNN\n",
    "third_convolutional_layer = model.layers[4]\n",
    "third_convolutional_layer"
   ]
  },
  {
   "cell_type": "code",
   "execution_count": 34,
   "metadata": {},
   "outputs": [
    {
     "data": {
      "text/plain": [
       "TensorShape([3, 3, 32, 64])"
      ]
     },
     "execution_count": 34,
     "metadata": {},
     "output_type": "execute_result"
    }
   ],
   "source": [
    "# Weights of the third convolutional layer of the CNN - which was trained/optimized\n",
    "third_convolutional_layer.weights[0].shape"
   ]
  },
  {
   "cell_type": "code",
   "execution_count": 35,
   "metadata": {},
   "outputs": [
    {
     "data": {
      "text/plain": [
       "TensorShape([64])"
      ]
     },
     "execution_count": 35,
     "metadata": {},
     "output_type": "execute_result"
    }
   ],
   "source": [
    "# Biases of the third convolutional layer of the CNN - which was trained/optimized\n",
    "third_convolutional_layer.weights[1].shape"
   ]
  },
  {
   "cell_type": "code",
   "execution_count": 36,
   "metadata": {},
   "outputs": [
    {
     "data": {
      "text/plain": [
       "18496"
      ]
     },
     "execution_count": 36,
     "metadata": {},
     "output_type": "execute_result"
    }
   ],
   "source": [
    "# Notice that we have indeed 18432 weights + 64 biases = 18496 parameters for the fourth convolutional layer\n",
    "3*3*32*64+64"
   ]
  },
  {
   "cell_type": "code",
   "execution_count": 37,
   "metadata": {},
   "outputs": [
    {
     "data": {
      "text/plain": [
       "<keras.layers.convolutional.conv2d.Conv2D at 0x7f52b0d67460>"
      ]
     },
     "execution_count": 37,
     "metadata": {},
     "output_type": "execute_result"
    }
   ],
   "source": [
    "# Accessing the fourth convolutional layer of the CNN\n",
    "fourth_convolutional_layer = model.layers[6]\n",
    "fourth_convolutional_layer"
   ]
  },
  {
   "cell_type": "code",
   "execution_count": 38,
   "metadata": {},
   "outputs": [
    {
     "data": {
      "text/plain": [
       "TensorShape([2, 2, 64, 64])"
      ]
     },
     "execution_count": 38,
     "metadata": {},
     "output_type": "execute_result"
    }
   ],
   "source": [
    "# Weights of the fourth convolutional layer of the CNN - which was trained/optimized\n",
    "fourth_convolutional_layer.weights[0].shape"
   ]
  },
  {
   "cell_type": "code",
   "execution_count": 39,
   "metadata": {},
   "outputs": [
    {
     "data": {
      "text/plain": [
       "TensorShape([64])"
      ]
     },
     "execution_count": 39,
     "metadata": {},
     "output_type": "execute_result"
    }
   ],
   "source": [
    "# Biases of the fourth convolutional layer of the CNN - which was trained/optimized\n",
    "fourth_convolutional_layer.weights[1].shape"
   ]
  },
  {
   "cell_type": "code",
   "execution_count": 40,
   "metadata": {},
   "outputs": [
    {
     "data": {
      "text/plain": [
       "16448"
      ]
     },
     "execution_count": 40,
     "metadata": {},
     "output_type": "execute_result"
    }
   ],
   "source": [
    "# Notice that we have indeed 16384 weights + 64 biases = 16448 parameters for the fourth convolutional layer\n",
    "(2*2*64+1)*64"
   ]
  },
  {
   "cell_type": "markdown",
   "metadata": {},
   "source": [
    "🚀 Now that we know how to access the trained weights of each kernel for every convolutional layer, we are going to investigate how they impact the analysis of images.\n",
    "\n",
    "* 🪄 Using **`plot_convolution(activation = True)`**, let's display the 16 kernels from the first convolutional layer, alongside with the activation output, to see what the model has learned from the images in this layer."
   ]
  },
  {
   "cell_type": "code",
   "execution_count": 41,
   "metadata": {},
   "outputs": [
    {
     "data": {
      "text/plain": [
       "<tf.Variable 'conv2d/kernel:0' shape=(4, 4, 1, 16) dtype=float32, numpy=\n",
       "array([[[[ 5.86679541e-02, -1.04501382e-01, -7.97446817e-02,\n",
       "           1.31636068e-01,  3.32443975e-02,  1.16293065e-01,\n",
       "           1.40342414e-01,  2.86799681e-04,  5.42580336e-02,\n",
       "           3.25491130e-02,  3.83810997e-02,  8.46359134e-02,\n",
       "          -9.49054286e-02,  8.99676979e-02,  1.37837797e-01,\n",
       "          -5.31772804e-03]],\n",
       "\n",
       "        [[-8.57379213e-02,  3.17956805e-02, -1.00505389e-01,\n",
       "          -4.07006927e-02,  1.53451622e-01,  1.83678135e-01,\n",
       "           1.51923075e-01, -5.99889345e-02,  1.06639020e-01,\n",
       "           2.70244386e-02,  3.30459103e-02,  1.39192715e-01,\n",
       "           2.51573119e-02, -9.68828648e-02, -8.95550381e-03,\n",
       "          -2.07314007e-02]],\n",
       "\n",
       "        [[ 1.34897500e-01, -3.92712690e-02, -3.78823467e-02,\n",
       "          -4.33224291e-02, -1.28151268e-01,  1.80720627e-01,\n",
       "           3.09506785e-02,  1.00032706e-02,  6.44636899e-02,\n",
       "           4.19403501e-02, -1.56403556e-01, -4.99684289e-02,\n",
       "           6.69005066e-02,  1.87272519e-01,  9.78527069e-02,\n",
       "          -1.70802474e-02]],\n",
       "\n",
       "        [[ 1.57601431e-01,  9.32184905e-02,  1.92051493e-02,\n",
       "          -1.51240351e-02, -6.98252991e-02,  3.18165869e-02,\n",
       "          -1.29862532e-01,  7.67289028e-02, -7.40598217e-02,\n",
       "          -7.53292367e-02,  1.68113085e-03,  5.71386702e-02,\n",
       "          -1.45114303e-01,  1.21846445e-01,  7.62939528e-02,\n",
       "           1.37307134e-03]]],\n",
       "\n",
       "\n",
       "       [[[ 1.16021916e-01,  1.99107621e-02,  1.19611964e-01,\n",
       "           1.56253189e-01, -5.82132675e-02,  1.57513157e-01,\n",
       "           3.34774726e-03, -4.78814170e-02,  1.54131979e-01,\n",
       "          -7.26372227e-02, -1.33614438e-02, -7.75244161e-02,\n",
       "          -1.01696350e-01, -9.73827913e-02, -1.70806714e-03,\n",
       "           1.31267756e-01]],\n",
       "\n",
       "        [[-4.12662812e-02, -1.26942188e-01, -2.20330674e-02,\n",
       "          -1.04798011e-01,  9.82225612e-02,  2.86472812e-02,\n",
       "           1.32593811e-01, -1.28543243e-01, -1.18714131e-01,\n",
       "           9.08352959e-05, -8.48707408e-02, -5.56436516e-02,\n",
       "           1.09197438e-01,  7.70462826e-02,  1.41742140e-01,\n",
       "           2.46072691e-02]],\n",
       "\n",
       "        [[ 1.62757248e-01,  3.29196751e-02, -9.60053690e-03,\n",
       "          -5.40683903e-02,  3.48078720e-02, -9.21342894e-02,\n",
       "           1.76598221e-01,  1.26882851e-01,  2.80792434e-02,\n",
       "           1.47334009e-01, -4.77799065e-02, -5.32792285e-02,\n",
       "          -4.09013368e-02,  2.15162933e-02,  7.41849616e-02,\n",
       "           1.37004450e-01]],\n",
       "\n",
       "        [[ 3.39291133e-02, -2.31728069e-02,  7.51210600e-02,\n",
       "          -8.65776911e-02,  3.44836712e-02, -9.43891238e-03,\n",
       "           6.36846125e-02,  1.45805061e-01,  5.72087839e-02,\n",
       "           3.98011729e-02,  6.89363200e-03, -6.82052448e-02,\n",
       "          -1.00307815e-01, -9.58609357e-02,  6.63080886e-02,\n",
       "           1.97812825e-01]]],\n",
       "\n",
       "\n",
       "       [[[ 1.33868292e-01, -1.24624349e-01,  2.19934955e-02,\n",
       "           1.62150413e-02, -1.66880433e-02, -1.44265229e-02,\n",
       "           1.05496243e-01,  7.80067518e-02, -1.09107383e-01,\n",
       "           8.76316279e-02,  1.00075051e-01, -8.22320655e-02,\n",
       "          -1.59146320e-02, -1.18000664e-01, -3.28167975e-02,\n",
       "          -1.01540826e-01]],\n",
       "\n",
       "        [[-5.50898463e-02, -2.73154285e-02, -8.73560756e-02,\n",
       "           1.26641933e-02, -6.93125203e-02, -7.64660761e-02,\n",
       "           6.05233796e-02, -8.39105397e-02, -1.03738889e-01,\n",
       "          -8.92863199e-02, -5.88613898e-02,  5.38793467e-02,\n",
       "          -1.18992008e-01, -8.41091424e-02,  7.96528086e-02,\n",
       "           4.82828803e-02]],\n",
       "\n",
       "        [[ 1.80250272e-01, -4.17686924e-02,  3.45938131e-02,\n",
       "           3.17596234e-02,  6.29243776e-02, -9.92601067e-02,\n",
       "           3.98385618e-03, -6.86995313e-02, -1.19072378e-01,\n",
       "          -1.18936472e-01, -1.25174999e-01, -4.07208465e-02,\n",
       "          -2.18559876e-02,  1.24689266e-01,  4.37915400e-02,\n",
       "           1.49396256e-01]],\n",
       "\n",
       "        [[-4.11453396e-02,  2.37963255e-02,  3.52929756e-02,\n",
       "           2.71506030e-02,  5.18119931e-02, -1.24612391e-01,\n",
       "           4.79425900e-02, -1.10103793e-01, -9.10550728e-02,\n",
       "          -5.21976799e-02,  6.78156763e-02,  1.31619005e-02,\n",
       "           1.18027627e-01,  8.53576362e-02,  7.44880959e-02,\n",
       "           2.48472840e-02]]],\n",
       "\n",
       "\n",
       "       [[[ 1.02828071e-01,  9.07720327e-02,  1.22597411e-01,\n",
       "           1.54466256e-01,  2.44076606e-02, -1.59988150e-01,\n",
       "           1.56344488e-01,  1.62271157e-01, -8.44613537e-02,\n",
       "          -6.95810840e-02,  1.35798156e-01, -2.75207050e-02,\n",
       "           1.04598865e-01, -1.63931102e-01, -8.24384540e-02,\n",
       "          -4.09511700e-02]],\n",
       "\n",
       "        [[ 1.62929967e-01,  3.68654914e-03,  2.12063361e-02,\n",
       "           6.51747957e-02,  6.15654178e-02,  3.93388160e-02,\n",
       "          -4.38615866e-02, -6.95684925e-02,  9.44724903e-02,\n",
       "          -1.22786472e-02,  3.19955833e-02, -1.24374822e-01,\n",
       "           2.13874895e-02,  4.41098399e-02,  6.04895875e-02,\n",
       "           5.09244055e-02]],\n",
       "\n",
       "        [[ 1.71621218e-01,  8.79152864e-02,  3.30683924e-02,\n",
       "          -1.48759246e-01,  9.95846614e-02, -1.45962670e-01,\n",
       "           7.55225196e-02, -3.92376520e-02, -4.88567352e-02,\n",
       "           1.27285406e-01,  4.70085889e-02, -9.93185714e-02,\n",
       "          -1.27141783e-02, -6.62632659e-02,  8.55477750e-02,\n",
       "           3.76575179e-02]],\n",
       "\n",
       "        [[-4.67340127e-02,  8.62853006e-02,  1.84432521e-01,\n",
       "          -1.47495866e-01,  1.42800212e-01, -1.00943871e-01,\n",
       "          -2.99904384e-02, -7.64648467e-02,  3.43467668e-02,\n",
       "          -3.79308909e-02, -1.73767954e-01, -7.97242969e-02,\n",
       "          -1.25463411e-01,  1.19479544e-01, -2.31404211e-02,\n",
       "          -4.59397398e-02]]]], dtype=float32)>"
      ]
     },
     "execution_count": 41,
     "metadata": {},
     "output_type": "execute_result"
    }
   ],
   "source": [
    "first_convolutional_layer.kernel"
   ]
  },
  {
   "cell_type": "code",
   "execution_count": 42,
   "metadata": {
    "tags": [
     "challengify"
    ]
   },
   "outputs": [
    {
     "name": "stdout",
     "output_type": "stream",
     "text": [
      "tf.Tensor(\n",
      "[[ 0.05866795 -0.10450138 -0.07974468  0.13163607  0.0332444   0.11629307\n",
      "   0.14034241  0.0002868   0.05425803  0.03254911  0.0383811   0.08463591\n",
      "  -0.09490543  0.0899677   0.1378378  -0.00531773]], shape=(1, 16), dtype=float32)\n"
     ]
    },
    {
     "data": {
      "image/png": "[encoded data removed]",
      "text/plain": [
       "<Figure size 1000x500 with 3 Axes>"
      ]
     },
     "metadata": {},
     "output_type": "display_data"
    },
    {
     "name": "stdout",
     "output_type": "stream",
     "text": [
      "tf.Tensor(\n",
      "[[-0.08573792  0.03179568 -0.10050539 -0.04070069  0.15345162  0.18367814\n",
      "   0.15192308 -0.05998893  0.10663902  0.02702444  0.03304591  0.13919272\n",
      "   0.02515731 -0.09688286 -0.0089555  -0.0207314 ]], shape=(1, 16), dtype=float32)\n"
     ]
    },
    {
     "data": {
      "image/png": "[encoded data removed]",
      "text/plain": [
       "<Figure size 1000x500 with 3 Axes>"
      ]
     },
     "metadata": {},
     "output_type": "display_data"
    },
    {
     "name": "stdout",
     "output_type": "stream",
     "text": [
      "tf.Tensor(\n",
      "[[ 0.1348975  -0.03927127 -0.03788235 -0.04332243 -0.12815127  0.18072063\n",
      "   0.03095068  0.01000327  0.06446369  0.04194035 -0.15640356 -0.04996843\n",
      "   0.06690051  0.18727252  0.09785271 -0.01708025]], shape=(1, 16), dtype=float32)\n"
     ]
    },
    {
     "data": {
      "image/png": "[encoded data removed]",
      "text/plain": [
       "<Figure size 1000x500 with 3 Axes>"
      ]
     },
     "metadata": {},
     "output_type": "display_data"
    },
    {
     "name": "stdout",
     "output_type": "stream",
     "text": [
      "tf.Tensor(\n",
      "[[ 0.15760143  0.09321849  0.01920515 -0.01512404 -0.0698253   0.03181659\n",
      "  -0.12986253  0.0767289  -0.07405982 -0.07532924  0.00168113  0.05713867\n",
      "  -0.1451143   0.12184644  0.07629395  0.00137307]], shape=(1, 16), dtype=float32)\n"
     ]
    },
    {
     "data": {
      "image/png": "[encoded data removed]",
      "text/plain": [
       "<Figure size 1000x500 with 3 Axes>"
      ]
     },
     "metadata": {},
     "output_type": "display_data"
    }
   ],
   "source": [
    "for kernel in first_convolutional_layer.kernel[0]:\n",
    "    print(kernel)\n",
    "    plot_convolution(img=X[0], kernel=kernel, activation=True)"
   ]
  },
  {
   "cell_type": "markdown",
   "metadata": {},
   "source": [
    "#### (2.3.2) Activations 🧨"
   ]
  },
  {
   "cell_type": "markdown",
   "metadata": {},
   "source": [
    "We have been looking at the activation (\"_output image_\") only after the **first convolutional layer**.\n",
    "\n",
    "🤔 What if we want to **visualize the activation of an image after every convolutional layer of the CNN** ?\n",
    "\n",
    "* 📚 We are going to use the [**Functional API**](https://www.tensorflow.org/guide/keras/functional) from Tensorflow/Keras.\n",
    "\n",
    "* 💪 Stay with us, this is the hardest part of the notebook but also the last one. And we are just asking you to stay focused and read 😉"
   ]
  },
  {
   "cell_type": "markdown",
   "metadata": {},
   "source": [
    "***Step 0️⃣ : Reminders of the CNN's summary***"
   ]
  },
  {
   "cell_type": "code",
   "execution_count": 43,
   "metadata": {
    "collapsed": true
   },
   "outputs": [
    {
     "name": "stdout",
     "output_type": "stream",
     "text": [
      "Model: \"sequential\"\n",
      "_________________________________________________________________\n",
      " Layer (type)                Output Shape              Param #   \n",
      "=================================================================\n",
      " conv2d (Conv2D)             (None, 73, 75, 16)        272       \n",
      "                                                                 \n",
      " max_pooling2d (MaxPooling2D  (None, 36, 37, 16)       0         \n",
      " )                                                               \n",
      "                                                                 \n",
      " conv2d_1 (Conv2D)           (None, 34, 35, 32)        4640      \n",
      "                                                                 \n",
      " max_pooling2d_1 (MaxPooling  (None, 17, 17, 32)       0         \n",
      " 2D)                                                             \n",
      "                                                                 \n",
      " conv2d_2 (Conv2D)           (None, 15, 15, 64)        18496     \n",
      "                                                                 \n",
      " max_pooling2d_2 (MaxPooling  (None, 7, 7, 64)         0         \n",
      " 2D)                                                             \n",
      "                                                                 \n",
      " conv2d_3 (Conv2D)           (None, 6, 6, 64)          16448     \n",
      "                                                                 \n",
      " max_pooling2d_3 (MaxPooling  (None, 3, 3, 64)         0         \n",
      " 2D)                                                             \n",
      "                                                                 \n",
      " flatten (Flatten)           (None, 576)               0         \n",
      "                                                                 \n",
      " dense (Dense)               (None, 10)                5770      \n",
      "                                                                 \n",
      " dense_1 (Dense)             (None, 1)                 11        \n",
      "                                                                 \n",
      "=================================================================\n",
      "Total params: 45,637\n",
      "Trainable params: 45,637\n",
      "Non-trainable params: 0\n",
      "_________________________________________________________________\n"
     ]
    }
   ],
   "source": [
    "model.summary()"
   ]
  },
  {
   "cell_type": "markdown",
   "metadata": {},
   "source": [
    "***Step 1️⃣: listing all the 11 layers' outputs of your CNN***"
   ]
  },
  {
   "cell_type": "code",
   "execution_count": 44,
   "metadata": {},
   "outputs": [
    {
     "data": {
      "text/plain": [
       "[<KerasTensor: shape=(None, 73, 75, 16) dtype=float32 (created by layer 'conv2d')>,\n",
       " <KerasTensor: shape=(None, 36, 37, 16) dtype=float32 (created by layer 'max_pooling2d')>,\n",
       " <KerasTensor: shape=(None, 34, 35, 32) dtype=float32 (created by layer 'conv2d_1')>,\n",
       " <KerasTensor: shape=(None, 17, 17, 32) dtype=float32 (created by layer 'max_pooling2d_1')>,\n",
       " <KerasTensor: shape=(None, 15, 15, 64) dtype=float32 (created by layer 'conv2d_2')>,\n",
       " <KerasTensor: shape=(None, 7, 7, 64) dtype=float32 (created by layer 'max_pooling2d_2')>,\n",
       " <KerasTensor: shape=(None, 6, 6, 64) dtype=float32 (created by layer 'conv2d_3')>,\n",
       " <KerasTensor: shape=(None, 3, 3, 64) dtype=float32 (created by layer 'max_pooling2d_3')>,\n",
       " <KerasTensor: shape=(None, 576) dtype=float32 (created by layer 'flatten')>,\n",
       " <KerasTensor: shape=(None, 10) dtype=float32 (created by layer 'dense')>,\n",
       " <KerasTensor: shape=(None, 1) dtype=float32 (created by layer 'dense_1')>]"
      ]
     },
     "execution_count": 44,
     "metadata": {},
     "output_type": "execute_result"
    }
   ],
   "source": [
    "layers_outputs = [layer.output for layer in model.layers]\n",
    "layers_outputs"
   ]
  },
  {
   "cell_type": "markdown",
   "metadata": {},
   "source": [
    "***Step 2️⃣ : Instantiate 11 sub-models re-using already trained weights and biases***\n",
    "- layer1\n",
    "- layer1 $ \\Rightarrow $ layer2\n",
    "- layer1 $ \\Rightarrow $ layer2 $ \\Rightarrow $ layer3\n",
    "- ... "
   ]
  },
  {
   "cell_type": "code",
   "execution_count": 45,
   "metadata": {},
   "outputs": [],
   "source": [
    "from tensorflow.keras import Model\n",
    "\n",
    "activation_models = [Model(inputs=model.input, outputs=output) for output in layers_outputs]"
   ]
  },
  {
   "cell_type": "markdown",
   "metadata": {},
   "source": [
    "***Step 3️⃣ : Compute the outputs of each submodel***"
   ]
  },
  {
   "cell_type": "code",
   "execution_count": null,
   "metadata": {},
   "outputs": [],
   "source": [
    "activations = [m.predict(X) for m in activation_models]\n",
    "len(activations)"
   ]
  },
  {
   "cell_type": "code",
   "execution_count": null,
   "metadata": {},
   "outputs": [],
   "source": [
    "[activation.shape for activation in activations]"
   ]
  },
  {
   "cell_type": "markdown",
   "metadata": {},
   "source": [
    "😎 PRO TIP:\n",
    "* In Tensorflow, you can also create a single model with many outputs to avoid Python loops / list comprehensions\n",
    "* Steps 1️⃣ 2️⃣ 3️⃣ can be done as follows:"
   ]
  },
  {
   "cell_type": "code",
   "execution_count": null,
   "metadata": {},
   "outputs": [],
   "source": [
    "layers_outputs = [layer.output for layer in model.layers] # same as above\n",
    "activation_model = Model(inputs=model.input, outputs=layers_outputs) # model with many outputs !\n",
    "activations = activation_model.predict(X) # 11 predictions at once!\n",
    "[activation.shape for activation in activations]"
   ]
  },
  {
   "cell_type": "markdown",
   "metadata": {},
   "source": [
    "#### (2.3.3) The final show 🥁"
   ]
  },
  {
   "cell_type": "markdown",
   "metadata": {},
   "source": [
    "🔥 Now that the activations are computed, we can choose one image in the dataset and observe the different \"activation images\" through each convolutional layer! In other terms, we are now able to observe what the CNN sees for each image! "
   ]
  },
  {
   "cell_type": "markdown",
   "metadata": {},
   "source": [
    "* 👇 Run the code down below and observe how a triangle was seen through the different convolutional layers."
   ]
  },
  {
   "cell_type": "code",
   "execution_count": null,
   "metadata": {},
   "outputs": [],
   "source": [
    "# Selecting a random triangle\n",
    "image_number = np.random.choice(np.where(y == 1)[0]) \n",
    "\n",
    "for layer_number in [0,2,4,6]:\n",
    "    \n",
    "    print(f\"--- Observing the effect of the convolutional layer number {layer_number}... ---\")\n",
    "    print(\"\")\n",
    "    \n",
    "    temp_number_kernels = model.layers[layer_number].weights[0].shape[-1]\n",
    "    print(f\"{temp_number_kernels} kernels were applied and here are all the activations of this Conv2D Layer:\")\n",
    "    \n",
    "    fig, axes = plt.subplots(int(temp_number_kernels/4),4, figsize=(20,7))\n",
    "    \n",
    "    \n",
    "    for ax, kernel_number in zip(axes.flat,range(temp_number_kernels)):\n",
    "        activation = activations[layer_number][image_number][:, :, kernel_number]\n",
    "        ax.imshow(activation, cmap=\"gray\")\n",
    "    \n",
    "    plt.show()\n"
   ]
  },
  {
   "cell_type": "markdown",
   "metadata": {},
   "source": [
    "* 👇 Run the code down below and observe how a circle) was seen through the different convolutional layers."
   ]
  },
  {
   "cell_type": "code",
   "execution_count": null,
   "metadata": {},
   "outputs": [],
   "source": [
    "# Selecting a random triangle\n",
    "image_number = np.random.choice(np.where(y == 0)[0]) \n",
    "\n",
    "for layer_number in [0,2,4,6]:\n",
    "    \n",
    "    print(f\"--- Observing the effect of the convolutional layer number {layer_number}... ---\")\n",
    "    print(\"\")\n",
    "    \n",
    "    temp_number_kernels = model.layers[layer_number].weights[0].shape[-1]\n",
    "    print(f\"{temp_number_kernels} kernels were applied and here are all the activations of this Conv2D Layer:\")\n",
    "    \n",
    "    fig, axes = plt.subplots(int(temp_number_kernels/4),4, figsize=(20,7))\n",
    "    \n",
    "    \n",
    "    for ax, kernel_number in zip(axes.flat,range(temp_number_kernels)):\n",
    "        activation = activations[layer_number][image_number][:, :, kernel_number]\n",
    "        ax.imshow(activation, cmap=\"gray\")\n",
    "    \n",
    "    plt.show()\n"
   ]
  },
  {
   "cell_type": "markdown",
   "metadata": {},
   "source": [
    "🧑🏻‍🏫 ***Notes*** 🧑🏻‍🏫\n",
    "\n",
    "1. Notice how the information of an image **flows** through the Convolutional Neural Network.\n",
    "2. You should see the picture becoming more and more \"abstract\", of smaller and smaller \"dimensions\"\n",
    "\n",
    "🕹 Feel free to play with the [CNN Explainer](https://poloclub.github.io/cnn-explainer/) from researchers at [Georgia Tech](https://www.gatech.edu/)"
   ]
  },
  {
   "cell_type": "markdown",
   "metadata": {},
   "source": [
    "🏁 **Congratulations!**\n",
    "\n",
    "💾 Don't forget to `git add/commit/push` your notebook...\n",
    "\n",
    "🚀 ... and move on to the next challenge!"
   ]
  },
  {
   "cell_type": "markdown",
   "metadata": {},
   "source": [
    "## (Appendix) Utils\n",
    "\n",
    "* The following section simply presents the functions that helped us create the dataset with triangles and circles you have been working with.\n",
    "\n",
    "* They were left at the end of the notebook just in case you want to further prototype and get better understanding of what is going on. \n",
    "\n",
    "* But ***for this first day discovering Computer Vision, skip this section and go to the next exercise***, you can always come back to it any time later."
   ]
  },
  {
   "cell_type": "code",
   "execution_count": null,
   "metadata": {},
   "outputs": [],
   "source": [
    "def draw_triangle():\n",
    "    dx = np.random.uniform(0.1, 0.3)\n",
    "    dy = np.random.uniform(0.1, 0.3)\n",
    "    noise_x = np.random.uniform(0.0, 0.1)\n",
    "    noise_y = np.random.uniform(0.0, 0.1)    \n",
    "    \n",
    "    x = np.random.uniform(0, 1-dx-noise_x)\n",
    "    y = np.random.uniform(0, 1-dy)\n",
    "    X = np.array([[x,y], [x+dx+noise_x,y], [x+dx/2, y+dy+noise_y]])\n",
    "\n",
    "    t1 = plt.Polygon(X, color='black')\n",
    "    plt.gca().add_patch(t1)\n",
    "    \n",
    "def draw_circle():\n",
    "    r = np.random.uniform(0.1, 0.25)\n",
    "    x = np.random.uniform(0+r, 1-r)\n",
    "    y = np.random.uniform(0+r, 1-r)\n",
    "\n",
    "    circle1 = plt.Circle((x, y), r, color='black')\n",
    "    plt.gcf().gca().add_artist(circle1)\n",
    "    \n",
    "def create_image(form, path):\n",
    "    plt.figure(figsize=(1, 1))\n",
    "    if form == 'circle':\n",
    "        draw_circle()\n",
    "    elif form == 'triangle':\n",
    "        draw_triangle()\n",
    "    plt.axis('off')\n",
    "    plt.savefig(path, dpi=80, bbox_inches='tight')\n",
    "    plt.close()\n",
    "\n",
    "    \n",
    "def create_images(path):\n",
    "    nb_circles = 100\n",
    "    nb_triangles = 100\n",
    "    \n",
    "    for i in range(nb_circles):\n",
    "        c_path = os.path.join(path, 'circles', f'circle_{i}.png')\n",
    "        create_image('circle', c_path)\n",
    "        \n",
    "    for i in range(nb_triangles):\n",
    "        t_path = os.path.join(path, 'triangles', f'triangle_{i}.png')\n",
    "        create_image('triangle', t_path)"
   ]
  }
 ],
 "metadata": {
  "kernelspec": {
   "display_name": "Python 3 (ipykernel)",
   "language": "python",
   "name": "python3"
  },
  "language_info": {
   "codemirror_mode": {
    "name": "ipython",
    "version": 3
   },
   "file_extension": ".py",
   "mimetype": "text/x-python",
   "name": "python",
   "nbconvert_exporter": "python",
   "pygments_lexer": "ipython3",
   "version": "3.10.6"
  },
  "toc": {
   "base_numbering": 1,
   "nav_menu": {},
   "number_sections": true,
   "sideBar": true,
   "skip_h1_title": false,
   "title_cell": "Table of Contents",
   "title_sidebar": "Contents",
   "toc_cell": false,
   "toc_position": {},
   "toc_section_display": true,
   "toc_window_display": false
  }
 },
 "nbformat": 4,
 "nbformat_minor": 4
}
